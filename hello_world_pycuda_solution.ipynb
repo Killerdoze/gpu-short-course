{
 "cells": [
  {
   "cell_type": "code",
   "execution_count": 1,
   "id": "bda5d8cc-69fc-4135-b7d5-a63cb41ab409",
   "metadata": {
    "colab": {
     "base_uri": "https://localhost:8080/"
    },
    "id": "bda5d8cc-69fc-4135-b7d5-a63cb41ab409",
    "outputId": "9470764f-06db-4599-a866-d11b788f2fb8"
   },
   "outputs": [
    {
     "name": "stdout",
     "output_type": "stream",
     "text": [
      "Hello world\n"
     ]
    }
   ],
   "source": [
    "print(\"Hello world\")"
   ]
  },
  {
   "cell_type": "code",
   "execution_count": 2,
   "id": "eb700c75-1d3c-4259-a02d-fe5c271691fb",
   "metadata": {
    "id": "eb700c75-1d3c-4259-a02d-fe5c271691fb"
   },
   "outputs": [],
   "source": [
    "i = 9"
   ]
  },
  {
   "cell_type": "code",
   "execution_count": 3,
   "id": "6adfe020-b655-4b59-9274-56bd85cb30a7",
   "metadata": {
    "id": "6adfe020-b655-4b59-9274-56bd85cb30a7"
   },
   "outputs": [],
   "source": [
    "i = i + 2"
   ]
  },
  {
   "cell_type": "code",
   "execution_count": 4,
   "id": "7b2b400f-aaa8-4cd2-947d-1b8daaf0153d",
   "metadata": {
    "colab": {
     "base_uri": "https://localhost:8080/"
    },
    "id": "7b2b400f-aaa8-4cd2-947d-1b8daaf0153d",
    "outputId": "d1875321-862d-4aad-f856-7d284dedf007"
   },
   "outputs": [
    {
     "name": "stdout",
     "output_type": "stream",
     "text": [
      "11\n"
     ]
    }
   ],
   "source": [
    "print(i)"
   ]
  },
  {
   "cell_type": "code",
   "execution_count": 21,
   "id": "UETjTJWEyWrc",
   "metadata": {
    "colab": {
     "base_uri": "https://localhost:8080/"
    },
    "id": "UETjTJWEyWrc",
    "outputId": "d62de5fc-8d2a-428c-debc-1dffdf25c42c"
   },
   "outputs": [
    {
     "name": "stdout",
     "output_type": "stream",
     "text": [
      "Thu Jan 16 11:14:12 2025       \n",
      "+---------------------------------------------------------------------------------------+\n",
      "| NVIDIA-SMI 535.104.05             Driver Version: 535.104.05   CUDA Version: 12.2     |\n",
      "|-----------------------------------------+----------------------+----------------------+\n",
      "| GPU  Name                 Persistence-M | Bus-Id        Disp.A | Volatile Uncorr. ECC |\n",
      "| Fan  Temp   Perf          Pwr:Usage/Cap |         Memory-Usage | GPU-Util  Compute M. |\n",
      "|                                         |                      |               MIG M. |\n",
      "|=========================================+======================+======================|\n",
      "|   0  Tesla T4                       Off | 00000000:00:04.0 Off |                    0 |\n",
      "| N/A   52C    P0              26W /  70W |    105MiB / 15360MiB |      0%      Default |\n",
      "|                                         |                      |                  N/A |\n",
      "+-----------------------------------------+----------------------+----------------------+\n",
      "                                                                                         \n",
      "+---------------------------------------------------------------------------------------+\n",
      "| Processes:                                                                            |\n",
      "|  GPU   GI   CI        PID   Type   Process name                            GPU Memory |\n",
      "|        ID   ID                                                             Usage      |\n",
      "|=======================================================================================|\n",
      "+---------------------------------------------------------------------------------------+\n"
     ]
    }
   ],
   "source": [
    "!nvidia-smi"
   ]
  },
  {
   "cell_type": "code",
   "execution_count": 7,
   "id": "r7vWjyfqxmRq",
   "metadata": {
    "colab": {
     "base_uri": "https://localhost:8080/"
    },
    "id": "r7vWjyfqxmRq",
    "outputId": "ea0e448f-9a3e-4e06-a68d-68a5cbb3ba58"
   },
   "outputs": [
    {
     "name": "stdout",
     "output_type": "stream",
     "text": [
      "Collecting pycuda\n",
      "  Downloading pycuda-2024.1.2.tar.gz (1.7 MB)\n",
      "\u001b[?25l     \u001b[90m━━━━━━━━━━━━━━━━━━━━━━━━━━━━━━━━━━━━━━━━\u001b[0m \u001b[32m0.0/1.7 MB\u001b[0m \u001b[31m?\u001b[0m eta \u001b[36m-:--:--\u001b[0m\r",
      "\u001b[2K     \u001b[91m━━━━━━━━━━━━━━━━\u001b[0m\u001b[90m╺\u001b[0m\u001b[90m━━━━━━━━━━━━━━━━━━━━━━━\u001b[0m \u001b[32m0.7/1.7 MB\u001b[0m \u001b[31m21.3 MB/s\u001b[0m eta \u001b[36m0:00:01\u001b[0m\r",
      "\u001b[2K     \u001b[90m━━━━━━━━━━━━━━━━━━━━━━━━━━━━━━━━━━━━━━━━\u001b[0m \u001b[32m1.7/1.7 MB\u001b[0m \u001b[31m28.3 MB/s\u001b[0m eta \u001b[36m0:00:00\u001b[0m\n",
      "\u001b[?25h  Installing build dependencies ... \u001b[?25l\u001b[?25hdone\n",
      "  Getting requirements to build wheel ... \u001b[?25l\u001b[?25hdone\n",
      "  Preparing metadata (pyproject.toml) ... \u001b[?25l\u001b[?25hdone\n",
      "Collecting pytools>=2011.2 (from pycuda)\n",
      "  Downloading pytools-2025.1.1-py3-none-any.whl.metadata (3.0 kB)\n",
      "Requirement already satisfied: platformdirs>=2.2.0 in /usr/local/lib/python3.11/dist-packages (from pycuda) (4.3.6)\n",
      "Collecting mako (from pycuda)\n",
      "  Downloading Mako-1.3.8-py3-none-any.whl.metadata (2.9 kB)\n",
      "Requirement already satisfied: typing-extensions>=4.5 in /usr/local/lib/python3.11/dist-packages (from pytools>=2011.2->pycuda) (4.12.2)\n",
      "Requirement already satisfied: MarkupSafe>=0.9.2 in /usr/local/lib/python3.11/dist-packages (from mako->pycuda) (3.0.2)\n",
      "Downloading pytools-2025.1.1-py3-none-any.whl (92 kB)\n",
      "\u001b[2K   \u001b[90m━━━━━━━━━━━━━━━━━━━━━━━━━━━━━━━━━━━━━━━━\u001b[0m \u001b[32m92.8/92.8 kB\u001b[0m \u001b[31m9.3 MB/s\u001b[0m eta \u001b[36m0:00:00\u001b[0m\n",
      "\u001b[?25hDownloading Mako-1.3.8-py3-none-any.whl (78 kB)\n",
      "\u001b[2K   \u001b[90m━━━━━━━━━━━━━━━━━━━━━━━━━━━━━━━━━━━━━━━━\u001b[0m \u001b[32m78.6/78.6 kB\u001b[0m \u001b[31m8.1 MB/s\u001b[0m eta \u001b[36m0:00:00\u001b[0m\n",
      "\u001b[?25hBuilding wheels for collected packages: pycuda\n",
      "  Building wheel for pycuda (pyproject.toml) ... \u001b[?25l\u001b[?25hdone\n",
      "  Created wheel for pycuda: filename=pycuda-2024.1.2-cp311-cp311-linux_x86_64.whl size=660362 sha256=c9955f1aa3213d62705dee29991c3aaa059e8c971d5ae58ad3cbcf1d15a27aff\n",
      "  Stored in directory: /root/.cache/pip/wheels/76/66/50/c65e6116d7e0e16abe0f7c19b50327f76724ccfefbdc61a1b9\n",
      "Successfully built pycuda\n",
      "Installing collected packages: pytools, mako, pycuda\n",
      "Successfully installed mako-1.3.8 pycuda-2024.1.2 pytools-2025.1.1\n"
     ]
    }
   ],
   "source": [
    "%%time\n",
    "!pip install pycuda"
   ]
  },
  {
   "cell_type": "code",
   "execution_count": 8,
   "id": "42c9e2d3-2fcb-457d-9fc6-79942d4a0bd0",
   "metadata": {
    "id": "42c9e2d3-2fcb-457d-9fc6-79942d4a0bd0"
   },
   "outputs": [],
   "source": [
    "#Import pycuda and specific submodules\n",
    "\n",
    "import pycuda\n",
    "import pycuda.driver as cuda\n",
    "from pycuda.compiler import SourceModule"
   ]
  },
  {
   "cell_type": "code",
   "execution_count": 9,
   "id": "6bd8ffee-a2be-4d41-a81c-0780478696a6",
   "metadata": {
    "id": "6bd8ffee-a2be-4d41-a81c-0780478696a6"
   },
   "outputs": [],
   "source": [
    "#Remember to initialize CUDA!!!\n",
    "import pycuda.autoinit"
   ]
  },
  {
   "cell_type": "code",
   "execution_count": 10,
   "id": "71e1954b-cef4-4b53-bb8f-7d0661d2cda9",
   "metadata": {
    "id": "71e1954b-cef4-4b53-bb8f-7d0661d2cda9"
   },
   "outputs": [],
   "source": [
    "#import Numpy to generate numbers on the CPU\n",
    "import numpy as np"
   ]
  },
  {
   "cell_type": "code",
   "execution_count": 11,
   "id": "dee47313-d2e2-4ba4-a3c5-af03ebb786eb",
   "metadata": {
    "colab": {
     "base_uri": "https://localhost:8080/"
    },
    "id": "dee47313-d2e2-4ba4-a3c5-af03ebb786eb",
    "outputId": "50e2624b-e86c-4fa5-ddf9-23e17b810496"
   },
   "outputs": [
    {
     "name": "stdout",
     "output_type": "stream",
     "text": [
      "[[ 1.9247125  -0.13375367  0.2532029   0.14165576]\n",
      " [ 0.51895756  0.73391616 -0.9988885  -1.4622518 ]\n",
      " [ 0.02906531  0.00582248  0.0410804  -0.45742336]\n",
      " [ 0.32707864 -0.49536744 -0.1682191  -0.49999222]]\n"
     ]
    }
   ],
   "source": [
    "#First, generate some random numbers on the CPU\n",
    "a = np.random.randn(4,4).astype(dtype=np.float32)\n",
    "print(a)"
   ]
  },
  {
   "cell_type": "code",
   "execution_count": 12,
   "id": "06b44955-fd74-42a9-87ab-c887d92da591",
   "metadata": {
    "colab": {
     "base_uri": "https://localhost:8080/"
    },
    "id": "06b44955-fd74-42a9-87ab-c887d92da591",
    "outputId": "09238e2d-72f3-4da5-f784-8b5aa501f2c5"
   },
   "outputs": [
    {
     "name": "stdout",
     "output_type": "stream",
     "text": [
      "float32\n",
      "64\n"
     ]
    }
   ],
   "source": [
    "#Print some information about a:\n",
    "print(a.dtype)\n",
    "print(a.nbytes)"
   ]
  },
  {
   "cell_type": "code",
   "execution_count": 13,
   "id": "cc833e84-94ec-4108-95ed-3ce137acdced",
   "metadata": {
    "colab": {
     "base_uri": "https://localhost:8080/"
    },
    "id": "cc833e84-94ec-4108-95ed-3ce137acdced",
    "outputId": "edaae3ce-c9ff-4764-ab38-cf39744d8205"
   },
   "outputs": [
    {
     "name": "stdout",
     "output_type": "stream",
     "text": [
      "64\n"
     ]
    }
   ],
   "source": [
    "#Double check if size makes sense:\n",
    "a_num_elements = 4*4\n",
    "num_bytes_per_element = 4 #NB: single precision is 4 bytes, double 8\n",
    "print(a_num_elements*num_bytes_per_element)"
   ]
  },
  {
   "cell_type": "code",
   "execution_count": 14,
   "id": "592c97f5-31c3-4e94-b8f1-0e802066208e",
   "metadata": {
    "id": "592c97f5-31c3-4e94-b8f1-0e802066208e"
   },
   "outputs": [],
   "source": [
    "#Transfer the data to the GPU (and allocate data there)\n",
    "a_gpu = cuda.mem_alloc(a.nbytes)"
   ]
  },
  {
   "cell_type": "code",
   "execution_count": 15,
   "id": "8adbb209-a920-4ff6-9bf5-10823fd4ff6e",
   "metadata": {
    "id": "8adbb209-a920-4ff6-9bf5-10823fd4ff6e"
   },
   "outputs": [],
   "source": [
    "#Copy data from host (cpu, numpy, a) to device (gpu, pycuda, a_gpu)\n",
    "cuda.memcpy_htod(a_gpu, a)"
   ]
  },
  {
   "cell_type": "code",
   "execution_count": 16,
   "id": "10c8d7da-ad5d-4516-a4ee-6d0c656462fd",
   "metadata": {
    "id": "10c8d7da-ad5d-4516-a4ee-6d0c656462fd"
   },
   "outputs": [],
   "source": [
    "kernel_src = \"\"\"\n",
    "//Important: This expects a_gpu to be single precision numbers,\n",
    "//           not double precision\n",
    "__global__ void double_a(float* a_gpu) {\n",
    "    int tid = threadIdx.x + threadIdx.y * 4;\n",
    "\n",
    "    a_gpu[tid] = a_gpu[tid]*2+1;\n",
    "}\n",
    "\"\"\"\n",
    "\n",
    "mod = SourceModule(kernel_src) #Create the source module from the source code\n",
    "func = mod.get_function(\"double_a\") #Get the compiled function double_a from the source code"
   ]
  },
  {
   "cell_type": "code",
   "execution_count": 17,
   "id": "221392f4-4136-41bf-8817-6137f1da03a2",
   "metadata": {
    "id": "221392f4-4136-41bf-8817-6137f1da03a2"
   },
   "outputs": [],
   "source": [
    "func(a_gpu, block=(4,4,1),grid=(1,1,1))"
   ]
  },
  {
   "cell_type": "code",
   "execution_count": 18,
   "id": "8263a370-3175-452d-aaae-84aa7a0c4bda",
   "metadata": {
    "colab": {
     "base_uri": "https://localhost:8080/"
    },
    "id": "8263a370-3175-452d-aaae-84aa7a0c4bda",
    "outputId": "6511de33-f792-4ac2-cf5a-720f1b2f5b59"
   },
   "outputs": [
    {
     "name": "stdout",
     "output_type": "stream",
     "text": [
      "[[ 1.9247125  -0.13375367  0.2532029   0.14165576]\n",
      " [ 0.51895756  0.73391616 -0.9988885  -1.4622518 ]\n",
      " [ 0.02906531  0.00582248  0.0410804  -0.45742336]\n",
      " [ 0.32707864 -0.49536744 -0.1682191  -0.49999222]]\n",
      "[[ 4.8494253e+00  7.3249269e-01  1.5064058e+00  1.2833115e+00]\n",
      " [ 2.0379152e+00  2.4678323e+00 -9.9777699e-01 -1.9245036e+00]\n",
      " [ 1.0581306e+00  1.0116450e+00  1.0821608e+00  8.5153282e-02]\n",
      " [ 1.6541573e+00  9.2651248e-03  6.6356182e-01  1.5556812e-05]]\n",
      "[[-1.0000002 -1.        -1.        -1.       ]\n",
      " [-1.0000001 -1.        -1.        -1.       ]\n",
      " [-1.        -1.        -1.        -1.       ]\n",
      " [-1.        -1.        -1.        -1.       ]]\n"
     ]
    }
   ],
   "source": [
    "#print out what a_gpu is:\n",
    "b = np.empty_like(a) #create an empty array equal in datatype and size to al\n",
    "cuda.memcpy_dtoh(b, a_gpu)\n",
    "\n",
    "print(a)\n",
    "print(b)\n",
    "\n",
    "print(2*a-b)"
   ]
  },
  {
   "cell_type": "code",
   "execution_count": 19,
   "id": "b767b4ba-24c7-4395-8b59-47e3bb866a97",
   "metadata": {
    "id": "b767b4ba-24c7-4395-8b59-47e3bb866a97"
   },
   "outputs": [],
   "source": [
    "from matplotlib import pyplot as plt"
   ]
  },
  {
   "cell_type": "code",
   "execution_count": 20,
   "id": "eb47fc96-6b52-40a7-99fb-7bfd321acb8b",
   "metadata": {
    "colab": {
     "base_uri": "https://localhost:8080/",
     "height": 469
    },
    "id": "eb47fc96-6b52-40a7-99fb-7bfd321acb8b",
    "outputId": "fd7854c6-2cf6-457f-d28a-175fc903354a"
   },
   "outputs": [
    {
     "data": {
      "text/plain": [
       "Text(0.5, 1.0, 'Publish this graph')"
      ]
     },
     "execution_count": 20,
     "metadata": {},
     "output_type": "execute_result"
    },
    {
     "data": {
      "image/png": "[encoded data removed]",
      "text/plain": [
       "<Figure size 640x480 with 1 Axes>"
      ]
     },
     "metadata": {},
     "output_type": "display_data"
    }
   ],
   "source": [
    "plt.plot(a[0,:], label='a')\n",
    "plt.plot(b[0,:], label='b')\n",
    "plt.legend()\n",
    "plt.title('Publish this graph')"
   ]
  },
  {
   "cell_type": "code",
   "execution_count": null,
   "id": "5f29f3bb-bfcb-4f28-b296-c3c95dbeaf75",
   "metadata": {
    "id": "5f29f3bb-bfcb-4f28-b296-c3c95dbeaf75"
   },
   "outputs": [],
   "source": []
  }
 ],
 "metadata": {
  "accelerator": "GPU",
  "colab": {
   "gpuType": "T4",
   "provenance": []
  },
  "kernelspec": {
   "display_name": "Python 3 (ipykernel)",
   "language": "python",
   "name": "python3"
  },
  "language_info": {
   "codemirror_mode": {
    "name": "ipython",
    "version": 3
   },
   "file_extension": ".py",
   "mimetype": "text/x-python",
   "name": "python",
   "nbconvert_exporter": "python",
   "pygments_lexer": "ipython3",
   "version": "3.12.4"
  }
 },
 "nbformat": 4,
 "nbformat_minor": 5
}
